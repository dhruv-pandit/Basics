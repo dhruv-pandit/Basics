{
 "cells": [
  {
   "cell_type": "markdown",
   "metadata": {},
   "source": [
    "# Probability\n",
    "## Probability\n",
    "### Sample Spaces\n",
    "- $\\Omega$ is the set of all possible outcomes : **sample space**\n",
    "  - Points $\\omega$ are the sample outocmes or elements\n",
    "  - Subsets of $\\Omega$ are called **events**\n",
    "- For a coin toss, the sample space = {H, T}\n",
    "- $A^c$ is just the complement of event A, or 'not a'\n",
    "  - The complement of $\\Omega$ is the empty set $\\theta$\n",
    "  - The union of two events A and B is thought of as A or B, while the intersection is thought of as A and B\n",
    "- Two events $A_1, A_2$ are mutually exclusive if the intersection of the two events is the empty set. \n",
    "  - A partition of the sample space is a sequence of mutually exlclusive events such that their union gives back the sample space. \n"
   ]
  },
  {
   "cell_type": "markdown",
   "metadata": {},
   "source": [
    "### Probability\n",
    "- $P(A\\bigcup B) = P(A) + P(B + P(A\\bigcap B)$\n",
    "- If $\\Omega$ is finite and each outcome/event A is equally likely then:\n",
    "  - $P(A) = \\frac{|A|} {|\\Omega|}$\n",
    "  - Which is called the **uniform probability distribution**\n",
    "- Given n objects, the number of ways of ordering these objects is n! = n(n - 1)(n - 2)···3·2· 1. For convenience, we define O! = 1\n",
    "- Also, $\\begin{pmatrix} n \\\\ k \\end{pmatrix} = \\frac{n!}{k!(n-k)!}$ is read as 'n choose k'\n",
    "  - This is the number of ways of choosing k objects from n\n",
    "  - For example, if we want to choose 3 students from 20 people we get :\n",
    "    - $\\begin{pmatrix} 20 \\\\ 3 \\end{pmatrix} = \\frac{20!}{3!(17)!} = 1140$\n",
    "  - Also, **n choose 0 = n choose n = 1**, and **n choose k = n choose n-k**\n",
    "### Independent Events\n",
    "- Two events are independent if:\n",
    "  - P(AB) = P(A)P(B)\n",
    "- A set of events is indepedent if:\n",
    "  - $P(\\bigcap A_i) = \\prod P(A_i)$\n",
    "- If A and B are disjoint events/mutually excl., then they cannot be independent because P(A)P(B) > 0, but P(AB) = 0\n",
    "- Independence can be assumed, or it can be derived"
   ]
  },
  {
   "cell_type": "markdown",
   "metadata": {},
   "source": [
    "### Conditional Probability\n"
   ]
  }
 ],
 "metadata": {
  "language_info": {
   "name": "python"
  },
  "orig_nbformat": 4
 },
 "nbformat": 4,
 "nbformat_minor": 2
}
