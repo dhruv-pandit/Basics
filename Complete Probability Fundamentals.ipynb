{
 "cells": [
  {
   "cell_type": "markdown",
   "metadata": {},
   "source": [
    "# Probability\n",
    "This is a notebook containing a complete overview on the fundaments and basics of probability, based on Larry Wassermans book. It has necessary equations, theorems, as well as some exercises.\n",
    "## Probability Basics\n",
    "### Sample Spaces\n",
    "- $\\Omega$ is the set of all possible outcomes : **sample space**\n",
    "  - Points $\\omega$ are the sample outcomes or elements\n",
    "  - Subsets of $\\Omega$ are called **events**\n",
    "- For a coin toss, the sample space = {H, T}\n",
    "- $A^c$ is just the complement of event A, or 'not a'\n",
    "  - The complement of $\\Omega$ is the empty set $\\theta$\n",
    "  - The union of two events A and B is thought of as A or B, while the intersection is thought of as A and B\n",
    "- Two events $A_1, A_2$ are mutually exclusive if the intersection of the two events is the empty set. \n",
    "  - A partition of the sample space is a sequence of mutually exlclusive events such that their union gives back the sample space. \n"
   ]
  },
  {
   "cell_type": "markdown",
   "metadata": {},
   "source": [
    "### Probability\n",
    "- $P(A\\bigcup B) = P(A) + P(B + P(A\\bigcap B)$\n",
    "- If $\\Omega$ is finite and each outcome/event A is equally likely then:\n",
    "  - $P(A) = \\frac{|A|} {|\\Omega|}$\n",
    "  - Which is called the **uniform probability distribution**\n",
    "- Given n objects, the number of ways of ordering these objects is n! = n(n - 1)(n - 2)···3·2· 1. For convenience, we define O! = 1\n",
    "- Also, $\\begin{pmatrix} n \\\\ k \\end{pmatrix} = \\frac{n!}{k!(n-k)!}$ is read as 'n choose k'\n",
    "  - This is the number of ways of choosing k objects from n\n",
    "  - For example, if we want to choose 3 students from 20 people we get :\n",
    "    - $\\begin{pmatrix} 20 \\\\ 3 \\end{pmatrix} = \\frac{20!}{3!(17)!} = 1140$\n",
    "  - Also, **n choose 0 = n choose n = 1**, and **n choose k = n choose n-k**\n",
    "### Independent Events\n",
    "- Two events are independent if:\n",
    "  - P(AB) = P(A)P(B)\n",
    "- A set of events is independent if:\n",
    "  - $P(\\bigcap A_i) = \\prod P(A_i)$\n",
    "- If A and B are disjoint events/mutually excl., then they cannot be independent because P(A)P(B) > 0, but P(AB) = 0\n",
    "- Independence can be assumed, or it can be derived"
   ]
  },
  {
   "cell_type": "markdown",
   "metadata": {},
   "source": [
    "### Conditional Probability\n",
    "- If P(B) > 0, then the conditional probability of A given B has happened is:\n",
    "  - $P(A|B) = \\frac{P(AB)}{P(B)}$\n",
    "  - Fraction of times A occurs among those in which B occurs.\n",
    "  - If $A_1, A_2...$ are disjoint, then $P(\\bigcup A_i|B) = \\sum P(A_i|B)$\n",
    "  - **But** : $P(A|B \\bigcup C) \\ne P(A|B) +P(A|C)$\n",
    "  - Also, it is **not true** that $P(A|B) = P(B|A)$ always holds\n",
    "- If A and B are independent events, then\n",
    "  - P(A|B) = P(A)\n",
    "- For any A and B, $P(AB) = P(A|B)P(B) = P(B|A)P(A)$"
   ]
  },
  {
   "cell_type": "markdown",
   "metadata": {},
   "source": [
    "### Bayes Theorem\n",
    "- For $A_1, ... A_k$ partitions of $\\Omega$ and an event B:\n",
    "  - $P(B) = \\sum P(B|A_i)P(A_i)$\n",
    "\n",
    "For k partitions of the sample space, such that the probability of each partition is greater than 0, and for an event B with probability greater than 0, Bayes Theorem says:\n",
    "- $P(A_i|B) = \\frac{P(B|A_i)P(A_i)}{\\sum P(B|A_j)P(A_j)}$"
   ]
  },
  {
   "cell_type": "markdown",
   "metadata": {},
   "source": [
    "## Random Variables\n",
    "- Random variable is a mapping that assignes a real number $X(\\omega)$ to each outcome $\\omega$\n",
    "- For a coin flip of 10 times, we can define $X(\\omega)$ as the number of heads in the seqence of events $\\omega$\n",
    "  - for $\\omega = HHTHHTHHTT; X(\\omega) = 6$\n",
    "- For a given random variable X, the **cumulative distribution function** is :\n",
    "  - $F_X(x) = P(X\\le x)\n",
    "  - "
   ]
  }
 ],
 "metadata": {
  "kernelspec": {
   "display_name": "Python 3.10.7 64-bit",
   "language": "python",
   "name": "python3"
  },
  "language_info": {
   "name": "python",
   "version": "3.10.7"
  },
  "orig_nbformat": 4,
  "vscode": {
   "interpreter": {
    "hash": "b0fa6594d8f4cbf19f97940f81e996739fb7646882a419484c72d19e05852a7e"
   }
  }
 },
 "nbformat": 4,
 "nbformat_minor": 2
}
